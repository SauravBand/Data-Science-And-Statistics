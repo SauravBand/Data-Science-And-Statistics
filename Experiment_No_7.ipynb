{
 "cells": [
  {
   "cell_type": "markdown",
   "id": "c4f480a2-c000-43d1-bea5-6079b9a01f83",
   "metadata": {},
   "source": [
    "# Data Visualization"
   ]
  },
  {
   "cell_type": "code",
   "execution_count": 15,
   "id": "83b61b47-98a1-4e28-9346-8e94473b7ef7",
   "metadata": {},
   "outputs": [],
   "source": [
    "#Name: Saurav Arun Band\n",
    "#Roll No:71\n",
    "#Sec: B\n",
    "#Subject:ET - 1"
   ]
  },
  {
   "cell_type": "code",
   "execution_count": 16,
   "id": "bb457044-4d3e-4176-a1a9-8693480a7604",
   "metadata": {},
   "outputs": [],
   "source": [
    "import pandas as pd\n",
    "import matplotlib.pyplot as plt"
   ]
  },
  {
   "cell_type": "code",
   "execution_count": 17,
   "id": "5a465d82-786e-4e67-bf14-f10b179c0f30",
   "metadata": {},
   "outputs": [],
   "source": [
    "import os"
   ]
  },
  {
   "cell_type": "code",
   "execution_count": 18,
   "id": "c8ebb9db-806a-44d7-9fa4-7826302c2cfe",
   "metadata": {},
   "outputs": [
    {
     "data": {
      "text/plain": [
       "'C:\\\\Users\\\\saura\\\\OneDrive\\\\Desktop\\\\Data Science'"
      ]
     },
     "execution_count": 18,
     "metadata": {},
     "output_type": "execute_result"
    }
   ],
   "source": [
    "os.getcwd()"
   ]
  },
  {
   "cell_type": "code",
   "execution_count": 19,
   "id": "73cb9d39-23fd-4125-95a3-255a089b95a5",
   "metadata": {},
   "outputs": [],
   "source": [
    "os.chdir(\"C:\\\\Users\\\\saura\\\\OneDrive\\\\Desktop\\\\Data Science\")"
   ]
  },
  {
   "cell_type": "code",
   "execution_count": 20,
   "id": "7473043a-f248-4597-9f82-38dd74ad6bb3",
   "metadata": {},
   "outputs": [],
   "source": [
    "df=pd.read_csv(\"framingham.csv\")"
   ]
  },
  {
   "cell_type": "code",
   "execution_count": 21,
   "id": "17e71f0d-5d3a-4d72-9591-edc81d778a4b",
   "metadata": {},
   "outputs": [
    {
     "data": {
      "text/plain": [
       "male                 int64\n",
       "age                  int64\n",
       "education          float64\n",
       "currentSmoker        int64\n",
       "cigsPerDay         float64\n",
       "BPMeds             float64\n",
       "prevalentStroke      int64\n",
       "prevalentHyp         int64\n",
       "diabetes             int64\n",
       "totChol            float64\n",
       "sysBP              float64\n",
       "diaBP              float64\n",
       "BMI                float64\n",
       "heartRate          float64\n",
       "glucose            float64\n",
       "TenYearCHD           int64\n",
       "dtype: object"
      ]
     },
     "execution_count": 21,
     "metadata": {},
     "output_type": "execute_result"
    }
   ],
   "source": [
    "df.dtypes"
   ]
  },
  {
   "cell_type": "code",
   "execution_count": 22,
   "id": "4795ef87-fcdf-4895-aa95-1615ad9f654c",
   "metadata": {},
   "outputs": [],
   "source": [
    "X = df['age']\n",
    "Y = df['glucose']"
   ]
  },
  {
   "cell_type": "code",
   "execution_count": null,
   "id": "d0e0043b-8446-4ee0-899a-835b22490af5",
   "metadata": {},
   "outputs": [],
   "source": [
    "plt.bar(X, Y)\n",
    "plt.xlabel('age')\n",
    "plt.ylabel('glucose')\n",
    "plt.title('Basic Bar Chart')\n",
    "plt.show()"
   ]
  },
  {
   "cell_type": "code",
   "execution_count": null,
   "id": "c04c0edb-e01b-49e3-aa4b-08048a642b7c",
   "metadata": {},
   "outputs": [],
   "source": [
    "plt.plot(X, Y)\n",
    "plt.xlabel('age')\n",
    "plt.ylabel('glucose')\n",
    "plt.title('Basic Line Graph')\n",
    "plt.show()"
   ]
  },
  {
   "cell_type": "code",
   "execution_count": null,
   "id": "f2a227fc-e455-4356-a596-a2deac8d8d5a",
   "metadata": {},
   "outputs": [],
   "source": []
  },
  {
   "cell_type": "code",
   "execution_count": null,
   "id": "46fe1a79-5988-476e-b0bf-695f1ba03c5c",
   "metadata": {},
   "outputs": [],
   "source": []
  }
 ],
 "metadata": {
  "kernelspec": {
   "display_name": "Python 3 (ipykernel)",
   "language": "python",
   "name": "python3"
  },
  "language_info": {
   "codemirror_mode": {
    "name": "ipython",
    "version": 3
   },
   "file_extension": ".py",
   "mimetype": "text/x-python",
   "name": "python",
   "nbconvert_exporter": "python",
   "pygments_lexer": "ipython3",
   "version": "3.12.4"
  }
 },
 "nbformat": 4,
 "nbformat_minor": 5
}
